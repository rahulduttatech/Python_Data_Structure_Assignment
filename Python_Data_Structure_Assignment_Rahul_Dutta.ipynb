{
  "nbformat": 4,
  "nbformat_minor": 0,
  "metadata": {
    "colab": {
      "provenance": [],
      "authorship_tag": "ABX9TyOYU0bqoLTXSirKxJNGlEFH"
    },
    "kernelspec": {
      "name": "python3",
      "display_name": "Python 3"
    },
    "language_info": {
      "name": "python"
    }
  },
  "cells": [
    {
      "cell_type": "markdown",
      "source": [
        "**Q1. Discuss string slicing and provide examples.**\n",
        "\n",
        "\n"
      ],
      "metadata": {
        "id": "0u0sioT6Dgzg"
      }
    },
    {
      "cell_type": "markdown",
      "source": [
        "**Ans1.** String slicing in Python is a way to access specific parts of a string. You can think of it as cutting out a piece of the string you’re interested in.\n",
        "\n",
        "\n",
        "1. It's a technique to access a sequence of characters within a string.\n",
        "\n",
        "2. You specify the starting and ending indices (positions) of the characters you want to extract.\n",
        "\n",
        "3. Remember, indexing in Python starts from 0.\n",
        "\n"
      ],
      "metadata": {
        "id": "juFwyHGgD4Ib"
      }
    },
    {
      "cell_type": "markdown",
      "source": [
        "The basic syntax for slicing is:"
      ],
      "metadata": {
        "id": "pifboAM5Gu0W"
      }
    },
    {
      "cell_type": "code",
      "execution_count": null,
      "metadata": {
        "id": "3L7sHSSFC7x0"
      },
      "outputs": [],
      "source": [
        "string[start:end:step]\n"
      ]
    },
    {
      "cell_type": "markdown",
      "source": [
        "**1. start:** the index where the slice starts (inclusive).\n",
        "\n",
        "**2. end:** the index where the slice ends (exclusive).\n",
        "\n",
        "**3. step:** how many characters to skip (optional).\n"
      ],
      "metadata": {
        "id": "WyZYfqPCGwl7"
      }
    },
    {
      "cell_type": "markdown",
      "source": [
        "Here are some examples:\n",
        "\n",
        "**1. Basic Slicing:**"
      ],
      "metadata": {
        "id": "w48RkIX6HRHF"
      }
    },
    {
      "cell_type": "code",
      "source": [
        "my_string = \"Hello, World!\"\n",
        "sliced = my_string[0:5]  # Gets characters from index 0 to 4\n",
        "print(sliced)  # Output: Hello\n"
      ],
      "metadata": {
        "id": "7cvENilkHXbq"
      },
      "execution_count": null,
      "outputs": []
    },
    {
      "cell_type": "markdown",
      "source": [
        "**2. Omitting Start or End:**"
      ],
      "metadata": {
        "id": "TFui_NLjHbdd"
      }
    },
    {
      "cell_type": "code",
      "source": [
        "sliced = my_string[:5]  # Starts from the beginning\n",
        "print(sliced)  # Output: Hello\n",
        "\n",
        "sliced = my_string[7:]  # Goes to the end\n",
        "print(sliced)  # Output: World!\n"
      ],
      "metadata": {
        "id": "-MfVvKjlHdco"
      },
      "execution_count": null,
      "outputs": []
    },
    {
      "cell_type": "markdown",
      "source": [
        "**3. Using Step:**"
      ],
      "metadata": {
        "id": "qQTKx91OHiYQ"
      }
    },
    {
      "cell_type": "code",
      "source": [
        "sliced = my_string[::2]  # Gets every second character\n",
        "print(sliced)  # Output: Hlo ol!\n"
      ],
      "metadata": {
        "id": "LyE3fA0YHk-K"
      },
      "execution_count": null,
      "outputs": []
    },
    {
      "cell_type": "markdown",
      "source": [
        "**4. Negative Indices:**"
      ],
      "metadata": {
        "id": "Gbf6zDYzH3Bc"
      }
    },
    {
      "cell_type": "code",
      "source": [
        "sliced = my_string[-6:-1]  # Counts from the end of the string\n",
        "print(sliced)  # Output: World\n"
      ],
      "metadata": {
        "id": "qa5Pz1xgH6GL"
      },
      "execution_count": null,
      "outputs": []
    },
    {
      "cell_type": "markdown",
      "source": [
        "Slicing is super handy for manipulating strings, and once you get the hang of it, it opens up a lot of possibilities for string handling!"
      ],
      "metadata": {
        "id": "kndDe7YbIAuS"
      }
    },
    {
      "cell_type": "markdown",
      "source": [
        "**Q2. Explain the key features of lists in Python.**\n"
      ],
      "metadata": {
        "id": "uMJ6AN0wIK8k"
      }
    },
    {
      "cell_type": "markdown",
      "source": [
        "**Ans2.** Lists are one of the most versatile data structures in Python. They are ordered collections of items, which can be of any data type. Here are some of their key features:"
      ],
      "metadata": {
        "id": "wy2CqucWON7W"
      }
    },
    {
      "cell_type": "markdown",
      "source": [
        "\n",
        "\n",
        "\n",
        "**1. Ordered and Mutable:**\n",
        "\n",
        "**a. Ordered:** Elements in a list are stored in a specific order and can be accessed by their index.\n",
        "\n",
        "**b. Mutable:** You can change the elements of a list after it's created.\n",
        "\n",
        "\n",
        "\n",
        "\n",
        "\n",
        "\n",
        "\n",
        "\n",
        "\n"
      ],
      "metadata": {
        "id": "edZ_AUhVLEHi"
      }
    },
    {
      "cell_type": "markdown",
      "source": [
        "**2. Heterogeneous Elements:**\n",
        "\n",
        "Lists can contain elements of different data types. For example, a list can contain integers, strings, floats, or even other lists."
      ],
      "metadata": {
        "id": "WGhOB4rXN_yH"
      }
    },
    {
      "cell_type": "markdown",
      "source": [
        "**3. Indexing and Slicing:**\n",
        "\n",
        "**A. Indexing:** You can access individual elements of a list using their index, starting from 0.\n",
        "\n",
        "**B. Slicing:** You can extract sublists from a list using slicing notation."
      ],
      "metadata": {
        "id": "mNzS1Q6jN0Ti"
      }
    },
    {
      "cell_type": "markdown",
      "source": [
        "**4. Dynamic Size:**\n",
        "\n",
        "Lists can grow or shrink dynamically as needed. You don't have to specify their size beforehand."
      ],
      "metadata": {
        "id": "sqhAaS-KNxOJ"
      }
    },
    {
      "cell_type": "markdown",
      "source": [
        "**5. Built-in Methods:**\n",
        "\n",
        "Python provides a rich set of built-in methods for working with lists, such as:\n",
        "\n",
        "**A. append():** Adds an element to the end of the list.\n",
        "\n",
        "**B. insert():** Inserts an element at a specified index.\n",
        "\n",
        "**C. remove():** Removes the first occurrence of a specified element.\n",
        "\n",
        "**D. pop():** Removes and returns the element at a specified index (or the last element by default).\n",
        "\n",
        "**E. sort():** Sorts the elements of the list in ascending order.\n",
        "\n",
        "**F. reverse():** Reverses the order of the elements in the list.\n",
        "\n",
        "**G. extend():** Appends the elements of another list to the end of the current list.\n",
        "\n",
        "**H. len():** Returns the length of the list.\n",
        "\n",
        "**I. in and not in:** Checks if an element is present in the list.\n",
        "\n",
        "\n",
        "\n"
      ],
      "metadata": {
        "id": "KzIegbLmL_Co"
      }
    },
    {
      "cell_type": "markdown",
      "source": [
        "**6. Nested Lists:**\n",
        "Lists can contain other lists, creating nested data structures.\n",
        "\n",
        "**Example:**"
      ],
      "metadata": {
        "id": "OYLhGGccOAaC"
      }
    },
    {
      "cell_type": "code",
      "source": [
        "my_list = [1, \"hello\", 3.14, [True, False]]\n",
        "\n",
        "# Accessing elements:\n",
        "print(my_list[0])  # Output: 1\n",
        "print(my_list[2])  # Output: 3.14\n",
        "print(my_list[3][0])  # Output: True\n",
        "\n",
        "# Modifying elements:\n",
        "my_list[1] = \"world\"\n",
        "print(my_list)  # Output: [1, 'world', 3.14, [True, False]]\n",
        "\n",
        "# Adding elements:\n",
        "my_list.append(5)\n",
        "print(my_list)  # Output: [1, 'world', 3.14, [True, False], 5]"
      ],
      "metadata": {
        "id": "D0FydM-XM7Ad"
      },
      "execution_count": null,
      "outputs": []
    },
    {
      "cell_type": "markdown",
      "source": [
        "Lists are a fundamental data structure in Python, and understanding their features is essential for effective programming."
      ],
      "metadata": {
        "id": "3HPn3o6dNB5j"
      }
    },
    {
      "cell_type": "markdown",
      "source": [
        "**Q3. Describe how to access, modify, and delete elements in a list with examples.**"
      ],
      "metadata": {
        "id": "MoULJQKfNC4e"
      }
    },
    {
      "cell_type": "markdown",
      "source": [
        "**Ans3.** Accessing, modifying, and deleting elements in a list in Python is straightforward! Here’s a breakdown of each operation with examples."
      ],
      "metadata": {
        "id": "EGnDHttEOOgd"
      }
    },
    {
      "cell_type": "markdown",
      "source": [
        "**1. Accessing Elements**\n",
        "\n",
        "You can access elements in a list using their index. Remember, indexing starts at 0."
      ],
      "metadata": {
        "id": "fGJUi1rqO_0t"
      }
    },
    {
      "cell_type": "code",
      "source": [
        "my_list = [10, 20, 30, 40, 50]\n",
        "\n",
        "# Accessing elements\n",
        "print(my_list[0])  # Output: 10 (first element)\n",
        "print(my_list[2])  # Output: 30 (third element)\n"
      ],
      "metadata": {
        "id": "13G-PfpSM-cr"
      },
      "execution_count": null,
      "outputs": []
    },
    {
      "cell_type": "markdown",
      "source": [
        "You can also use negative indexing to access elements from the end of the list:"
      ],
      "metadata": {
        "id": "_1-mf0snPJwv"
      }
    },
    {
      "cell_type": "code",
      "source": [
        "print(my_list[-1])  # Output: 50 (last element)\n",
        "print(my_list[-2])  # Output: 40 (second to last element)\n"
      ],
      "metadata": {
        "id": "jmTn0X8tPNLo"
      },
      "execution_count": null,
      "outputs": []
    },
    {
      "cell_type": "markdown",
      "source": [
        "**2. Modifying Elements**\n",
        "\n",
        "To modify an element, simply assign a new value to the desired index."
      ],
      "metadata": {
        "id": "fB_q9otnPPG3"
      }
    },
    {
      "cell_type": "code",
      "source": [
        "my_list[1] = 25  # Changing the second element\n",
        "print(my_list)  # Output: [10, 25, 30, 40, 50]\n"
      ],
      "metadata": {
        "id": "f95d1GkJPUjD"
      },
      "execution_count": null,
      "outputs": []
    },
    {
      "cell_type": "markdown",
      "source": [
        "You can also modify multiple elements using slicing:"
      ],
      "metadata": {
        "id": "aMHFznNLPZSq"
      }
    },
    {
      "cell_type": "code",
      "source": [
        "my_list[1:3] = [22, 33]  # Changing the second and third elements\n",
        "print(my_list)  # Output: [10, 22, 33, 40, 50]\n"
      ],
      "metadata": {
        "id": "wREpTU6UPcF6"
      },
      "execution_count": null,
      "outputs": []
    },
    {
      "cell_type": "markdown",
      "source": [
        "**3. Deleting Elements**\n",
        "\n",
        "You can delete elements using the del statement, the remove() method, or the pop() method.\n",
        "\n"
      ],
      "metadata": {
        "id": "GFkUzHCrPiT6"
      }
    },
    {
      "cell_type": "markdown",
      "source": [
        "**A. Using del:**"
      ],
      "metadata": {
        "id": "Rx1fEpp8Pq0a"
      }
    },
    {
      "cell_type": "code",
      "source": [
        "del my_list[0]  # Deletes the first element\n",
        "print(my_list)  # Output: [22, 33, 40, 50]\n"
      ],
      "metadata": {
        "id": "KVBMGyI0P4K2"
      },
      "execution_count": null,
      "outputs": []
    },
    {
      "cell_type": "markdown",
      "source": [
        "**B. Using remove():** This method removes the first occurrence of a specified value."
      ],
      "metadata": {
        "id": "BPc_hrWvP5A2"
      }
    },
    {
      "cell_type": "code",
      "source": [
        "my_list.remove(33)  # Removes the element with value 33\n",
        "print(my_list)  # Output: [22, 40, 50]\n"
      ],
      "metadata": {
        "id": "UUmsE7MjQAFL"
      },
      "execution_count": null,
      "outputs": []
    },
    {
      "cell_type": "markdown",
      "source": [
        "**C Using pop():** This method removes an element at a specific index and returns it. If no index is specified, it removes the last element."
      ],
      "metadata": {
        "id": "gZ0b2BwSQBTL"
      }
    },
    {
      "cell_type": "code",
      "source": [
        "removed_element = my_list.pop(1)  # Removes and returns the element at index 1\n",
        "print(removed_element)  # Output: 40\n",
        "print(my_list)  # Output: [22, 50]\n"
      ],
      "metadata": {
        "id": "6KFdAd6YQJLr"
      },
      "execution_count": null,
      "outputs": []
    },
    {
      "cell_type": "markdown",
      "source": [
        "So, accessing, modifying, and deleting elements in a list is pretty intuitive! Just use the index for access and modification, and you’ve got several methods to remove elements. This flexibility makes lists really powerful for managing collections of data in Python!"
      ],
      "metadata": {
        "id": "H9vVOoxpQMOe"
      }
    },
    {
      "cell_type": "markdown",
      "source": [
        "**Q4. Compare and contrast tuples and lists with examples.**"
      ],
      "metadata": {
        "id": "mm3LGwfaQNSg"
      }
    },
    {
      "cell_type": "markdown",
      "source": [
        "**Ans4.** Tuples and lists are both used to store collections of items in Python, but they have some key differences. Here’s a comparison:"
      ],
      "metadata": {
        "id": "PLGTRUSnQY30"
      }
    },
    {
      "cell_type": "markdown",
      "source": [
        "**1. Mutability**\n",
        "\n",
        "**Lists:** Mutable, meaning you can change their contents after creation (add, remove, or modify items)."
      ],
      "metadata": {
        "id": "LWn2gnreRdzT"
      }
    },
    {
      "cell_type": "code",
      "source": [
        "my_list = [1, 2, 3]\n",
        "my_list[1] = 5  # Modifying an element\n",
        "my_list.append(4)  # Adding an element\n",
        "print(my_list)  # Output: [1, 5, 3, 4]\n"
      ],
      "metadata": {
        "id": "IoF3DJJrRcO8"
      },
      "execution_count": null,
      "outputs": []
    },
    {
      "cell_type": "markdown",
      "source": [
        "**Tuples:** Immutable, meaning once a tuple is created, you cannot change its contents. This can make them faster and more memory-efficient."
      ],
      "metadata": {
        "id": "I0-MimmdRt_M"
      }
    },
    {
      "cell_type": "code",
      "source": [
        "my_tuple = (1, 2, 3)\n",
        "# my_tuple[1] = 5  # This would raise a TypeError\n"
      ],
      "metadata": {
        "id": "DUm8G61YRxA-"
      },
      "execution_count": null,
      "outputs": []
    },
    {
      "cell_type": "markdown",
      "source": [
        "**2. Syntax**\n",
        "\n",
        "**Lists:** Defined using square brackets []."
      ],
      "metadata": {
        "id": "Ej2UpGmcRz_b"
      }
    },
    {
      "cell_type": "code",
      "source": [
        "Syntax\n",
        "Lists: Defined using square brackets []."
      ],
      "metadata": {
        "id": "1eDn5EyOR8On"
      },
      "execution_count": null,
      "outputs": []
    },
    {
      "cell_type": "markdown",
      "source": [
        "**Tuples:** Defined using parentheses ()."
      ],
      "metadata": {
        "id": "kvq4lGQhR-yG"
      }
    },
    {
      "cell_type": "code",
      "source": [
        "my_tuple = (1, 2, 3)\n"
      ],
      "metadata": {
        "id": "4_MIg56pSChQ"
      },
      "execution_count": null,
      "outputs": []
    },
    {
      "cell_type": "markdown",
      "source": [
        "**3. Use Cases**\n",
        "\n",
        "**Lists:** Ideal for collections of items that may need to change. Use lists when you need to add, remove, or modify elements frequently.\n",
        "\n",
        "\n",
        "**Tuples:** Useful for fixed collections of items. Use tuples when the data should not change, like coordinates or configuration settings."
      ],
      "metadata": {
        "id": "T-zeJyEKSFGt"
      }
    },
    {
      "cell_type": "markdown",
      "source": [
        "**4. Performance**\n",
        "\n",
        "**Lists:** Generally slower than tuples due to their mutability and the overhead that comes with it.\n",
        "\n",
        "**Tuples:** Typically faster to access and use less memory, making them more efficient for certain tasks."
      ],
      "metadata": {
        "id": "MauN0HGaSPmA"
      }
    },
    {
      "cell_type": "markdown",
      "source": [
        "**5. Methods**\n",
        "\n",
        "**Lists:** Have many built-in methods like append(), remove(), pop(), sort(), etc."
      ],
      "metadata": {
        "id": "7gy9pwXSSg8V"
      }
    },
    {
      "cell_type": "code",
      "source": [
        "my_list = [3, 1, 2]\n",
        "my_list.sort()  # Sorts the list in place\n",
        "print(my_list)  # Output: [1, 2, 3]\n"
      ],
      "metadata": {
        "id": "JDBS2LZVSbem"
      },
      "execution_count": null,
      "outputs": []
    },
    {
      "cell_type": "markdown",
      "source": [
        "**Tuples:** Have fewer methods, mainly count() and index()."
      ],
      "metadata": {
        "id": "s9h-goI-Snw_"
      }
    },
    {
      "cell_type": "code",
      "source": [
        "my_tuple = (1, 2, 2, 3)\n",
        "print(my_tuple.count(2))  # Output: 2 (counts occurrences of 2)\n"
      ],
      "metadata": {
        "id": "ZPdI3ZUaSt9Q"
      },
      "execution_count": null,
      "outputs": []
    },
    {
      "cell_type": "markdown",
      "source": [
        "In summary, use lists when you need a collection that can change, and use tuples when you want a fixed collection of items. Both have their strengths, so the choice depends on your specific needs."
      ],
      "metadata": {
        "id": "OzxtLQvvSv_Y"
      }
    },
    {
      "cell_type": "markdown",
      "source": [
        "**Q5. Describe the key features of sets and provide examples of their use.**\n"
      ],
      "metadata": {
        "id": "ox2RqpmwS1xJ"
      }
    },
    {
      "cell_type": "markdown",
      "source": [
        "**Ans5.** Sets in Python are a unique and powerful data structure. Here are the key features of sets along with examples of how they can be used:"
      ],
      "metadata": {
        "id": "x3Zx3CdqU3sb"
      }
    },
    {
      "cell_type": "markdown",
      "source": [
        "**Key Features of Sets**\n",
        "\n",
        "1. **Unordered**: Sets do not maintain any order for their elements. This means you cannot access items by index."
      ],
      "metadata": {
        "id": "hNR2qQhaU5X1"
      }
    },
    {
      "cell_type": "code",
      "source": [
        "my_set = {1, 2, 3}\n",
        "   print(my_set)  # Output might be {1, 2, 3} but the order is not guaranteed"
      ],
      "metadata": {
        "id": "rDQ6G-quVAq7"
      },
      "execution_count": null,
      "outputs": []
    },
    {
      "cell_type": "markdown",
      "source": [
        "2. **Unique Elements**: Sets automatically eliminate duplicate values. If you try to add a duplicate, it will simply be ignored."
      ],
      "metadata": {
        "id": "Brc4gf9XVGuE"
      }
    },
    {
      "cell_type": "code",
      "source": [
        "my_set = {1, 2, 2, 3}\n",
        "print(my_set)  # Output: {1, 2, 3}"
      ],
      "metadata": {
        "id": "B5AJLR5GVNA9"
      },
      "execution_count": null,
      "outputs": []
    },
    {
      "cell_type": "markdown",
      "source": [
        "3. **Mutable**: Sets can be modified; you can add or remove elements after the set is created."
      ],
      "metadata": {
        "id": "O95UJ9uNVWCR"
      }
    },
    {
      "cell_type": "code",
      "source": [
        "   my_set.add(4)  # Adding an element\n",
        "   print(my_set)  # Output: {1, 2, 3, 4}"
      ],
      "metadata": {
        "id": "Oi3xF4CWVXI7"
      },
      "execution_count": null,
      "outputs": []
    },
    {
      "cell_type": "markdown",
      "source": [
        "4. **No Indexing or Slicing**: Since sets are unordered, you cannot access elements using indices or slices."
      ],
      "metadata": {
        "id": "WcsZemcwVayR"
      }
    },
    {
      "cell_type": "code",
      "source": [
        "# my_set[0]  # This would raise a TypeError"
      ],
      "metadata": {
        "id": "VxE9cLvTVfNv"
      },
      "execution_count": null,
      "outputs": []
    },
    {
      "cell_type": "markdown",
      "source": [
        "5. **Set Operations**: Sets support various mathematical operations like union, intersection, difference, and symmetric difference."
      ],
      "metadata": {
        "id": "FkRkUZPIVnh6"
      }
    },
    {
      "cell_type": "code",
      "source": [
        "set_a = {1, 2, 3}\n",
        "set_b = {3, 4, 5}\n",
        "\n",
        "# Union\n",
        "print(set_a | set_b)  # Output: {1, 2, 3, 4, 5}\n",
        "\n",
        "# Intersection\n",
        "print(set_a & set_b)  # Output: {3}\n",
        "\n",
        "# Difference\n",
        "print(set_a - set_b)  # Output: {1, 2}\n",
        "\n",
        "# Symmetric Difference\n",
        "print(set_a ^ set_b)  # Output: {1, 2, 4, 5}\n"
      ],
      "metadata": {
        "id": "_T4PYZUMVwJQ"
      },
      "execution_count": null,
      "outputs": []
    },
    {
      "cell_type": "markdown",
      "source": [
        "6. **Membership Testing**: Sets provide fast membership testing, which is very efficient compared to lists."
      ],
      "metadata": {
        "id": "Yegw_LpcV5aV"
      }
    },
    {
      "cell_type": "code",
      "source": [
        "   my_set = {1, 2, 3}\n",
        "   print(2 in my_set)  # Output: True\n",
        "   print(4 in my_set)  # Output: False"
      ],
      "metadata": {
        "id": "duGvbm56V75M"
      },
      "execution_count": null,
      "outputs": []
    },
    {
      "cell_type": "markdown",
      "source": [
        "**Use Cases for Sets**\n",
        "\n",
        "- **Removing Duplicates**: You can use sets to eliminate duplicates from a list."
      ],
      "metadata": {
        "id": "As_ZrsC1WFPc"
      }
    },
    {
      "cell_type": "code",
      "source": [
        "  my_list = [1, 2, 2, 3, 4, 4]\n",
        "  unique_items = set(my_list)\n",
        "  print(unique_items)  # Output: {1, 2, 3, 4}"
      ],
      "metadata": {
        "id": "W2vfARWpWNtp"
      },
      "execution_count": null,
      "outputs": []
    },
    {
      "cell_type": "markdown",
      "source": [
        "- **Membership Testing**: If you need to frequently check for the presence of an item, sets are much faster than lists.\n",
        "\n",
        "- **Mathematical Operations**: Sets are great for scenarios involving group operations, like finding common friends in social networks or managing unique IDs.\n",
        "\n",
        "Overall, sets are a fantastic choice when you need to manage collections of unique items without worrying about their order!"
      ],
      "metadata": {
        "id": "yc7gnFM2WM_2"
      }
    },
    {
      "cell_type": "markdown",
      "source": [
        "**Q6. Discuss the use cases of tuples and sets in Python programming.**\n"
      ],
      "metadata": {
        "id": "EockrHNUWcoR"
      }
    },
    {
      "cell_type": "markdown",
      "source": [
        "**Ans6.** Tuples and sets serve distinct purposes in Python programming, and their unique properties make them suitable for different use cases. Here’s a breakdown of how and when to use each:"
      ],
      "metadata": {
        "id": "InjvjtYHaVRo"
      }
    },
    {
      "cell_type": "markdown",
      "source": [
        "**Use Cases for Tuples**\n",
        "\n",
        "1. **Fixed Collections**:\n",
        "   - Tuples are ideal for collections of items that should not change. For example, when representing coordinates or RGB color values."
      ],
      "metadata": {
        "id": "a9jIEVI_aZGO"
      }
    },
    {
      "cell_type": "code",
      "source": [
        "   coordinates = (10.0, 20.0)\n",
        "   color = (255, 0, 0)  # Red in RGB"
      ],
      "metadata": {
        "id": "jQX6lPRgafgU"
      },
      "execution_count": null,
      "outputs": []
    },
    {
      "cell_type": "markdown",
      "source": [
        "2. **Return Multiple Values**:\n",
        "   - Tuples are often used to return multiple values from a function."
      ],
      "metadata": {
        "id": "dgtrzre_at-h"
      }
    },
    {
      "cell_type": "code",
      "source": [
        "   def get_stats(numbers):\n",
        "       mean = sum(numbers) / len(numbers)\n",
        "       return mean, min(numbers), max(numbers)\n",
        "\n",
        "   stats = get_stats([10, 20, 30])\n",
        "   print(stats)  # Output: (20.0, 10, 30)"
      ],
      "metadata": {
        "id": "j8xQoHXEascU"
      },
      "execution_count": null,
      "outputs": []
    },
    {
      "cell_type": "markdown",
      "source": [
        "3. **Data Integrity**:\n",
        "   - Since tuples are immutable, they can be used to ensure that a collection of values remains constant throughout the program, enhancing data integrity."
      ],
      "metadata": {
        "id": "1VlZySzWa4wv"
      }
    },
    {
      "cell_type": "code",
      "source": [
        "   settings = (\"high\", \"medium\", \"low\")  # Configuration settings that should not change"
      ],
      "metadata": {
        "id": "Syrq8Z6fa4NA"
      },
      "execution_count": null,
      "outputs": []
    },
    {
      "cell_type": "markdown",
      "source": [
        "4. **Dictionary Keys**:\n",
        "   - Tuples can be used as keys in dictionaries because they are hashable, unlike lists."
      ],
      "metadata": {
        "id": "1Py017xfa9Bd"
      }
    },
    {
      "cell_type": "code",
      "source": [
        "   point_dict = {(1, 2): \"A\", (3, 4): \"B\"}\n",
        "   print(point_dict[(1, 2)])  # Output: A"
      ],
      "metadata": {
        "id": "7qqkCHIxbAhO"
      },
      "execution_count": null,
      "outputs": []
    },
    {
      "cell_type": "markdown",
      "source": [
        "**Use Cases for Sets**\n",
        "\n",
        "1. **Removing Duplicates**:\n",
        "   - Sets are perfect for eliminating duplicate values from a list or other iterable."
      ],
      "metadata": {
        "id": "wH49XRuZbIsE"
      }
    },
    {
      "cell_type": "code",
      "source": [
        "   my_list = [1, 2, 2, 3, 4, 4]\n",
        "   unique_items = set(my_list)\n",
        "   print(unique_items)  # Output: {1, 2, 3, 4}"
      ],
      "metadata": {
        "id": "yMnKHyajbY1a"
      },
      "execution_count": null,
      "outputs": []
    },
    {
      "cell_type": "markdown",
      "source": [
        "2. **Membership Testing**:\n",
        "   - Sets provide fast membership testing, making them useful when you need to frequently check if an item exists in a collection."
      ],
      "metadata": {
        "id": "GBK8HM_7bYfN"
      }
    },
    {
      "cell_type": "code",
      "source": [
        "   my_set = {1, 2, 3, 4}\n",
        "   print(3 in my_set)  # Output: True"
      ],
      "metadata": {
        "id": "IkqieJWAbgEj"
      },
      "execution_count": null,
      "outputs": []
    },
    {
      "cell_type": "markdown",
      "source": [
        "3. **Mathematical Set Operations**:\n",
        "   - Sets support operations like union, intersection, and difference, which are useful for scenarios involving groups or collections."
      ],
      "metadata": {
        "id": "YuuCBMs5bou7"
      }
    },
    {
      "cell_type": "code",
      "source": [
        "   set_a = {1, 2, 3}\n",
        "   set_b = {3, 4, 5}\n",
        "   print(set_a & set_b)  # Intersection: Output: {3}"
      ],
      "metadata": {
        "id": "sPNUzlmPbytg"
      },
      "execution_count": null,
      "outputs": []
    },
    {
      "cell_type": "markdown",
      "source": [
        "4. **Tracking Unique Items**:\n",
        "   - Sets are useful for tracking unique items in applications, such as managing unique user IDs or event occurrences."
      ],
      "metadata": {
        "id": "VxepVFhEbsvJ"
      }
    },
    {
      "cell_type": "code",
      "source": [
        "   unique_user_ids = set()\n",
        "   unique_user_ids.add(101)\n",
        "   unique_user_ids.add(102)\n",
        "   unique_user_ids.add(101)  # Duplicate, won't be added\n",
        "   print(unique_user_ids)  # Output: {101, 102}"
      ],
      "metadata": {
        "id": "CTquW_exb-S-"
      },
      "execution_count": null,
      "outputs": []
    },
    {
      "cell_type": "markdown",
      "source": [
        "In summary, **tuples** are great for fixed collections, returning multiple values, and maintaining data integrity, while **sets** are ideal for managing unique items, removing duplicates, and performing mathematical set operations. Choosing the right data structure can help optimize your program's efficiency and readability!"
      ],
      "metadata": {
        "id": "FI1XQgtdbwyV"
      }
    },
    {
      "cell_type": "markdown",
      "source": [
        "**Q7. Describe how to add, modify, and delete items in a dictionary with examples.**"
      ],
      "metadata": {
        "id": "xbq6PZJtcIrt"
      }
    },
    {
      "cell_type": "markdown",
      "source": [
        "**Ans7.** Dictionaries in Python are versatile data structures that store key-value pairs. Here’s how to add, modify, and delete items in a dictionary, along with examples for each operation."
      ],
      "metadata": {
        "id": "pWan1HnHcdyE"
      }
    },
    {
      "cell_type": "markdown",
      "source": [
        "**1. Adding Items**\n",
        "\n",
        "You can add a new key-value pair to a dictionary simply by assigning a value to a new key."
      ],
      "metadata": {
        "id": "oJO_7Ix1c6mQ"
      }
    },
    {
      "cell_type": "code",
      "source": [
        "# Creating a dictionary\n",
        "my_dict = {\"name\": \"Alice\", \"age\": 30}\n",
        "\n",
        "# Adding a new key-value pair\n",
        "my_dict[\"city\"] = \"New York\"\n",
        "print(my_dict)  # Output: {'name': 'Alice', 'age': 30, 'city': 'New York'}"
      ],
      "metadata": {
        "id": "C7JbYGnbdDi8"
      },
      "execution_count": null,
      "outputs": []
    },
    {
      "cell_type": "markdown",
      "source": [
        "You can also use the `update()` method to add multiple key-value pairs at once:"
      ],
      "metadata": {
        "id": "SvISuYTJdIt8"
      }
    },
    {
      "cell_type": "code",
      "source": [
        "my_dict.update({\"job\": \"Engineer\", \"hobby\": \"Painting\"})\n",
        "print(my_dict)\n",
        "# Output: {'name': 'Alice', 'age': 30, 'city': 'New York', 'job': 'Engineer', 'hobby': 'Painting'}"
      ],
      "metadata": {
        "id": "uxIBW-MsdLeA"
      },
      "execution_count": null,
      "outputs": []
    },
    {
      "cell_type": "markdown",
      "source": [
        "**2. Modifying Items**\n",
        "\n",
        "To modify an existing value, simply assign a new value to the existing key."
      ],
      "metadata": {
        "id": "hX1iK8xGdTfF"
      }
    },
    {
      "cell_type": "code",
      "source": [
        "# Modifying an existing value\n",
        "my_dict[\"age\"] = 31\n",
        "print(my_dict)  # Output: {'name': 'Alice', 'age': 31, 'city': 'New York', 'job': 'Engineer', 'hobby': 'Painting'}"
      ],
      "metadata": {
        "id": "Lzjja3bcdXGe"
      },
      "execution_count": null,
      "outputs": []
    },
    {
      "cell_type": "markdown",
      "source": [
        "You can also use the `update()` method for modifying multiple items:"
      ],
      "metadata": {
        "id": "uQeJCpjJdajn"
      }
    },
    {
      "cell_type": "code",
      "source": [
        "my_dict.update({\"city\": \"San Francisco\", \"job\": \"Senior Engineer\"})\n",
        "print(my_dict)\n",
        "# Output: {'name': 'Alice', 'age': 31, 'city': 'San Francisco', 'job': 'Senior Engineer', 'hobby': 'Painting'}"
      ],
      "metadata": {
        "id": "urDqT5tedbTh"
      },
      "execution_count": null,
      "outputs": []
    },
    {
      "cell_type": "markdown",
      "source": [
        "3. Deleting Items\n",
        "\n",
        "You can remove items from a dictionary using the `del` statement, the `pop()` method, or the `popitem()` method.\n",
        "\n",
        "- **Using `del`**:"
      ],
      "metadata": {
        "id": "fphSVXd5dpv_"
      }
    },
    {
      "cell_type": "code",
      "source": [
        "# Deleting an item using del\n",
        "del my_dict[\"hobby\"]\n",
        "print(my_dict)  # Output: {'name': 'Alice', 'age': 31, 'city': 'San Francisco', 'job': 'Senior Engineer'}"
      ],
      "metadata": {
        "id": "Dx4t8UHpdtPl"
      },
      "execution_count": null,
      "outputs": []
    },
    {
      "cell_type": "markdown",
      "source": [
        "- **Using `pop()`**: This method removes a specified key and returns its value."
      ],
      "metadata": {
        "id": "77DmmPB0dwfl"
      }
    },
    {
      "cell_type": "code",
      "source": [
        "# Deleting an item using pop\n",
        "removed_value = my_dict.pop(\"city\")\n",
        "print(removed_value)  # Output: San Francisco\n",
        "print(my_dict)  # Output: {'name': 'Alice', 'age': 31, 'job': 'Senior Engineer'}"
      ],
      "metadata": {
        "id": "xlxnmQ9Ad1Wy"
      },
      "execution_count": null,
      "outputs": []
    },
    {
      "cell_type": "markdown",
      "source": [
        "- **Using `popitem()`**: This method removes and returns the last inserted key-value pair as a tuple. This is useful when you want to remove items in LIFO (last in, first out) order."
      ],
      "metadata": {
        "id": "lX1iWat-d2ib"
      }
    },
    {
      "cell_type": "code",
      "source": [
        "# Deleting the last inserted item\n",
        "last_item = my_dict.popitem()\n",
        "print(last_item)  # Output: ('job', 'Senior Engineer')\n",
        "print(my_dict)  # Output: {'name': 'Alice', 'age': 31}"
      ],
      "metadata": {
        "id": "D54_BKCzd7dA"
      },
      "execution_count": null,
      "outputs": []
    },
    {
      "cell_type": "markdown",
      "source": [
        "In summary, adding, modifying, and deleting items in a dictionary is straightforward. You can easily manage key-value pairs using direct assignments and built-in methods, making dictionaries a powerful tool for organizing data in Python!"
      ],
      "metadata": {
        "id": "TDZZX0-IeCrs"
      }
    },
    {
      "cell_type": "markdown",
      "source": [
        "**Q8. Discuss the importance of dictionary keys being immutable and provide examples**"
      ],
      "metadata": {
        "id": "8mEj1hZ2eLP3"
      }
    },
    {
      "cell_type": "markdown",
      "source": [
        "**Ans8.** The immutability of dictionary keys in Python is crucial for maintaining the integrity and functionality of dictionaries. Here’s why this property is important, along with examples to illustrate the concept:"
      ],
      "metadata": {
        "id": "5-SxFPvcev4d"
      }
    },
    {
      "cell_type": "markdown",
      "source": [
        "**Importance of Immutable Keys**\n",
        "1. **Hashability**:\n",
        "   - Dictionary keys must be hashable, meaning they need to have a consistent hash value throughout their lifetime. Immutability ensures that the key's value does not change, which is essential for the underlying hash table mechanism that dictionaries use.\n",
        "   - If the value of a key were to change, it would disrupt the mapping of that key to its corresponding value, leading to errors or incorrect data retrieval.\n",
        "\n",
        "   **Example**:"
      ],
      "metadata": {
        "id": "Vg4WJ08ce6S2"
      }
    },
    {
      "cell_type": "code",
      "source": [
        "   my_dict = {}\n",
        "   my_dict[(1, 2)] = \"Point A\"  # A tuple (which is immutable) is used as a key\n",
        "   print(my_dict)  # Output: {(1, 2): 'Point A'}\n",
        "\n",
        "   # my_dict[[1, 2]] = \"Point B\"  # This would raise a TypeError because a list is mutable"
      ],
      "metadata": {
        "id": "8lUKU-QhfBkX"
      },
      "execution_count": null,
      "outputs": []
    },
    {
      "cell_type": "markdown",
      "source": [
        "2. **Data Integrity**:\n",
        "   - By ensuring that keys cannot be altered after they are created, dictionaries maintain data integrity. This means that the relationship between keys and their corresponding values remains stable.\n",
        "\n",
        "   **Example**:"
      ],
      "metadata": {
        "id": "zaLaEvBffINk"
      }
    },
    {
      "cell_type": "code",
      "source": [
        "   my_dict = {\"apple\": 1, \"banana\": 2}\n",
        "   # my_dict[\"apple\"] = \"orange\"  # You can change the value, but the key \"apple\" remains unchanged\n",
        "   print(my_dict)  # Output: {'apple': 1, 'banana': 2}"
      ],
      "metadata": {
        "id": "ctL2q0aDfNrl"
      },
      "execution_count": null,
      "outputs": []
    },
    {
      "cell_type": "markdown",
      "source": [
        "3. **Consistency in Lookups**:\n",
        "   - When using a dictionary for lookups, having immutable keys guarantees that the same key will always point to the same value. This makes the dictionary reliable for tasks like caching, counting occurrences, and grouping data.\n",
        "\n",
        "   **Example**:"
      ],
      "metadata": {
        "id": "uW4V-DB3he1H"
      }
    },
    {
      "cell_type": "code",
      "source": [
        "   user_roles = {}\n",
        "   user_roles[\"alice\"] = \"admin\"\n",
        "   user_roles[\"bob\"] = \"user\"\n",
        "\n",
        "   # When looking up a role\n",
        "   print(user_roles[\"alice\"])  # Output: admin"
      ],
      "metadata": {
        "id": "_OTc-LCRhee8"
      },
      "execution_count": null,
      "outputs": []
    },
    {
      "cell_type": "markdown",
      "source": [
        "4. **Performance**:\n",
        "   - Immutable keys help improve the performance of dictionary operations like lookups, insertions, and deletions. The hashing mechanism relies on stable keys, enabling fast access to the corresponding values."
      ],
      "metadata": {
        "id": "hw1UWTuDhmIS"
      }
    },
    {
      "cell_type": "markdown",
      "source": [
        "**Conclusion**\n",
        "\n",
        "In summary, the immutability of dictionary keys is fundamental to the way dictionaries work in Python. It ensures hashability, maintains data integrity, guarantees consistency in lookups, and enhances performance. By using immutable types like strings, tuples, or numbers as keys, dictionaries can efficiently manage and retrieve data without the risk of key-related errors."
      ],
      "metadata": {
        "id": "-lSjsQ8OhnIb"
      }
    }
  ]
}